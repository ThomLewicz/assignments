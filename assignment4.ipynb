{
 "cells": [
  {
   "cell_type": "markdown",
   "metadata": {
    "collapsed": true
   },
   "source": [
    "# Assignment for week 6\n",
    "\n",
    "Use the following table to provide us with\n",
    "\n",
    "|name | exam number|\n",
    "|Thom Lewicz|u123288|\n",
    "|your name| exam number|\n",
    "|other group member's name| exam number|"
   ]
  },
  {
   "cell_type": "markdown",
   "metadata": {},
   "source": [
    "You need to read the data of salaries.csv\n",
    "Call the dataframe s.\n",
    "If you get the wrong output (all oberservations per row in one column), please look at the \"separator\" in the csv-file and adjust the read command, to that each observations is in one cell."
   ]
  },
  {
   "cell_type": "markdown",
   "metadata": {
    "collapsed": false
   },
   "source": [
    "Answer: The output was wrong. I have modified the data so that each observation is in one cell.\n",
    "It's strange that in excel each observation is in one cell, but in jupyter this is not the case.\n",
    "\n",
    "salaries <- read.csv(\"salaries.csv\")"
   ]
  },
  {
   "cell_type": "markdown",
   "metadata": {},
   "source": [
    "Show the data with the command head() "
   ]
  },
  {
   "cell_type": "code",
   "execution_count": 24,
   "metadata": {
    "collapsed": false
   },
   "outputs": [
    {
     "data": {
      "text/html": [
       "<table>\n",
       "<thead><tr><th scope=col>X.rank.discipline.yrs.since.phd.yrs.service.sex.salary</th></tr></thead>\n",
       "<tbody>\n",
       "\t<tr><td>1;Prof;B;19;18;Male;139750  </td></tr>\n",
       "\t<tr><td>2;Prof;B;20;16;Male;173200  </td></tr>\n",
       "\t<tr><td>3;AsstProf;B;4;3;Male;79750 </td></tr>\n",
       "\t<tr><td>4;Prof;B;45;39;Male;115000  </td></tr>\n",
       "\t<tr><td>5;Prof;B;40;41;Male;141500  </td></tr>\n",
       "\t<tr><td>6;AssocProf;B;6;6;Male;97000</td></tr>\n",
       "</tbody>\n",
       "</table>\n"
      ],
      "text/latex": [
       "\\begin{tabular}{r|l}\n",
       " X.rank.discipline.yrs.since.phd.yrs.service.sex.salary\\\\\n",
       "\\hline\n",
       "\t 1;Prof;B;19;18;Male;139750  \\\\\n",
       "\t 2;Prof;B;20;16;Male;173200  \\\\\n",
       "\t 3;AsstProf;B;4;3;Male;79750 \\\\\n",
       "\t 4;Prof;B;45;39;Male;115000  \\\\\n",
       "\t 5;Prof;B;40;41;Male;141500  \\\\\n",
       "\t 6;AssocProf;B;6;6;Male;97000\\\\\n",
       "\\end{tabular}\n"
      ],
      "text/markdown": [
       "\n",
       "X.rank.discipline.yrs.since.phd.yrs.service.sex.salary | \n",
       "|---|---|---|---|---|---|\n",
       "| 1;Prof;B;19;18;Male;139750   | \n",
       "| 2;Prof;B;20;16;Male;173200   | \n",
       "| 3;AsstProf;B;4;3;Male;79750  | \n",
       "| 4;Prof;B;45;39;Male;115000   | \n",
       "| 5;Prof;B;40;41;Male;141500   | \n",
       "| 6;AssocProf;B;6;6;Male;97000 | \n",
       "\n",
       "\n"
      ],
      "text/plain": [
       "  X.rank.discipline.yrs.since.phd.yrs.service.sex.salary\n",
       "1 1;Prof;B;19;18;Male;139750                            \n",
       "2 2;Prof;B;20;16;Male;173200                            \n",
       "3 3;AsstProf;B;4;3;Male;79750                           \n",
       "4 4;Prof;B;45;39;Male;115000                            \n",
       "5 5;Prof;B;40;41;Male;141500                            \n",
       "6 6;AssocProf;B;6;6;Male;97000                          "
      ]
     },
     "metadata": {},
     "output_type": "display_data"
    }
   ],
   "source": [
    "head(salaries)"
   ]
  },
  {
   "cell_type": "markdown",
   "metadata": {
    "collapsed": true
   },
   "source": [
    "Show the structure of the dataset with the command str()"
   ]
  },
  {
   "cell_type": "code",
   "execution_count": 23,
   "metadata": {
    "collapsed": false
   },
   "outputs": [
    {
     "name": "stdout",
     "output_type": "stream",
     "text": [
      "'data.frame':\t397 obs. of  1 variable:\n",
      " $ X.rank.discipline.yrs.since.phd.yrs.service.sex.salary: Factor w/ 397 levels \"1;Prof;B;19;18;Male;139750\",..: 1 112 223 332 343 354 365 376 387 2 ...\n"
     ]
    }
   ],
   "source": [
    "str(salaries)"
   ]
  },
  {
   "cell_type": "markdown",
   "metadata": {},
   "source": [
    "Change the variable \"salary\" into a numeric variable, with the command as.numeric"
   ]
  },
  {
   "cell_type": "code",
   "execution_count": 19,
   "metadata": {
    "collapsed": false
   },
   "outputs": [
    {
     "ename": "ERROR",
     "evalue": "Error in `$<-.data.frame`(`*tmp*`, \"salary\", value = numeric(0)): replacement has 0 rows, data has 397\n",
     "output_type": "error",
     "traceback": [
      "Error in `$<-.data.frame`(`*tmp*`, \"salary\", value = numeric(0)): replacement has 0 rows, data has 397\nTraceback:\n",
      "1. `$<-`(`*tmp*`, \"salary\", value = numeric(0))",
      "2. `$<-.data.frame`(`*tmp*`, \"salary\", value = numeric(0))",
      "3. stop(sprintf(ngettext(N, \"replacement has %d row, data has %d\", \n .     \"replacement has %d rows, data has %d\"), N, nrows), domain = NA)"
     ]
    }
   ],
   "source": [
    "salaries$salary <- as.numeric(salaries$salary)"
   ]
  },
  {
   "cell_type": "markdown",
   "metadata": {},
   "source": [
    "Show the new structure of the dataset with the command str()"
   ]
  },
  {
   "cell_type": "code",
   "execution_count": 20,
   "metadata": {
    "collapsed": false
   },
   "outputs": [
    {
     "name": "stdout",
     "output_type": "stream",
     "text": [
      "'data.frame':\t397 obs. of  1 variable:\n",
      " $ X.rank.discipline.yrs.since.phd.yrs.service.sex.salary: Factor w/ 397 levels \"1;Prof;B;19;18;Male;139750\",..: 1 112 223 332 343 354 365 376 387 2 ...\n"
     ]
    }
   ],
   "source": [
    "str(salaries)"
   ]
  },
  {
   "cell_type": "code",
   "execution_count": null,
   "metadata": {
    "collapsed": true
   },
   "outputs": [],
   "source": []
  }
 ],
 "metadata": {
  "anaconda-cloud": {},
  "kernelspec": {
   "display_name": "R",
   "language": "R",
   "name": "ir"
  },
  "language_info": {
   "codemirror_mode": "r",
   "file_extension": ".r",
   "mimetype": "text/x-r-source",
   "name": "R",
   "pygments_lexer": "r",
   "version": "3.3.2"
  }
 },
 "nbformat": 4,
 "nbformat_minor": 1
}
